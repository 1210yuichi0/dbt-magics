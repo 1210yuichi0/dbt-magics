{
 "cells": [
  {
   "cell_type": "code",
   "execution_count": 10,
   "metadata": {},
   "outputs": [
    {
     "name": "stdout",
     "output_type": "stream",
     "text": [
      "The dbt_magics extension is already loaded. To reload it, use:\n",
      "  %reload_ext dbt_magics\n"
     ]
    }
   ],
   "source": [
    "%load_ext dbt_magics\n",
    "\n",
    "%config dbt.limit = 10"
   ]
  },
  {
   "cell_type": "code",
   "execution_count": 11,
   "metadata": {},
   "outputs": [],
   "source": [
    "import pandas as pd\n",
    "#行の表示数の上限を撤廃\n",
    "pd.set_option('display.max_rows', None)\n",
    "#列の表示数の上限を撤廃\n",
    "pd.set_option('display.max_columns', None)"
   ]
  },
  {
   "cell_type": "code",
   "execution_count": 12,
   "metadata": {
    "vscode": {
     "languageId": "sql"
    }
   },
   "outputs": [
    {
     "data": {
      "text/html": [
       "<div>\n",
       "<style scoped>\n",
       "    .dataframe tbody tr th:only-of-type {\n",
       "        vertical-align: middle;\n",
       "    }\n",
       "\n",
       "    .dataframe tbody tr th {\n",
       "        vertical-align: top;\n",
       "    }\n",
       "\n",
       "    .dataframe thead th {\n",
       "        text-align: right;\n",
       "    }\n",
       "</style>\n",
       "<table border=\"1\" class=\"dataframe\">\n",
       "  <thead>\n",
       "    <tr style=\"text-align: right;\">\n",
       "      <th></th>\n",
       "      <th>customer_id</th>\n",
       "      <th>first_name</th>\n",
       "      <th>last_name</th>\n",
       "      <th>first_order</th>\n",
       "      <th>most_recent_order</th>\n",
       "      <th>number_of_orders</th>\n",
       "      <th>customer_lifetime_value</th>\n",
       "    </tr>\n",
       "  </thead>\n",
       "  <tbody>\n",
       "    <tr>\n",
       "      <th>0</th>\n",
       "      <td>1</td>\n",
       "      <td>Michael</td>\n",
       "      <td>P.</td>\n",
       "      <td>2018-01-01</td>\n",
       "      <td>2018-02-10</td>\n",
       "      <td>2</td>\n",
       "      <td>33.0</td>\n",
       "    </tr>\n",
       "    <tr>\n",
       "      <th>1</th>\n",
       "      <td>2</td>\n",
       "      <td>Shawn</td>\n",
       "      <td>M.</td>\n",
       "      <td>2018-01-11</td>\n",
       "      <td>2018-01-11</td>\n",
       "      <td>1</td>\n",
       "      <td>23.0</td>\n",
       "    </tr>\n",
       "    <tr>\n",
       "      <th>2</th>\n",
       "      <td>3</td>\n",
       "      <td>Kathleen</td>\n",
       "      <td>P.</td>\n",
       "      <td>2018-01-02</td>\n",
       "      <td>2018-03-11</td>\n",
       "      <td>3</td>\n",
       "      <td>65.0</td>\n",
       "    </tr>\n",
       "    <tr>\n",
       "      <th>3</th>\n",
       "      <td>6</td>\n",
       "      <td>Sarah</td>\n",
       "      <td>R.</td>\n",
       "      <td>2018-02-19</td>\n",
       "      <td>2018-02-19</td>\n",
       "      <td>1</td>\n",
       "      <td>8.0</td>\n",
       "    </tr>\n",
       "    <tr>\n",
       "      <th>4</th>\n",
       "      <td>7</td>\n",
       "      <td>Martin</td>\n",
       "      <td>M.</td>\n",
       "      <td>2018-01-14</td>\n",
       "      <td>2018-01-14</td>\n",
       "      <td>1</td>\n",
       "      <td>26.0</td>\n",
       "    </tr>\n",
       "    <tr>\n",
       "      <th>5</th>\n",
       "      <td>8</td>\n",
       "      <td>Frank</td>\n",
       "      <td>R.</td>\n",
       "      <td>2018-01-29</td>\n",
       "      <td>2018-03-12</td>\n",
       "      <td>2</td>\n",
       "      <td>45.0</td>\n",
       "    </tr>\n",
       "    <tr>\n",
       "      <th>6</th>\n",
       "      <td>9</td>\n",
       "      <td>Jennifer</td>\n",
       "      <td>F.</td>\n",
       "      <td>2018-03-17</td>\n",
       "      <td>2018-03-17</td>\n",
       "      <td>1</td>\n",
       "      <td>30.0</td>\n",
       "    </tr>\n",
       "    <tr>\n",
       "      <th>7</th>\n",
       "      <td>11</td>\n",
       "      <td>Fred</td>\n",
       "      <td>S.</td>\n",
       "      <td>2018-03-23</td>\n",
       "      <td>2018-03-23</td>\n",
       "      <td>1</td>\n",
       "      <td>3.0</td>\n",
       "    </tr>\n",
       "    <tr>\n",
       "      <th>8</th>\n",
       "      <td>12</td>\n",
       "      <td>Amy</td>\n",
       "      <td>D.</td>\n",
       "      <td>2018-03-03</td>\n",
       "      <td>2018-03-03</td>\n",
       "      <td>1</td>\n",
       "      <td>4.0</td>\n",
       "    </tr>\n",
       "    <tr>\n",
       "      <th>9</th>\n",
       "      <td>13</td>\n",
       "      <td>Kathleen</td>\n",
       "      <td>M.</td>\n",
       "      <td>2018-03-07</td>\n",
       "      <td>2018-03-07</td>\n",
       "      <td>1</td>\n",
       "      <td>26.0</td>\n",
       "    </tr>\n",
       "  </tbody>\n",
       "</table>\n",
       "</div>"
      ],
      "text/plain": [
       "   customer_id first_name last_name first_order most_recent_order  \\\n",
       "0            1    Michael        P.  2018-01-01        2018-02-10   \n",
       "1            2      Shawn        M.  2018-01-11        2018-01-11   \n",
       "2            3   Kathleen        P.  2018-01-02        2018-03-11   \n",
       "3            6      Sarah        R.  2018-02-19        2018-02-19   \n",
       "4            7     Martin        M.  2018-01-14        2018-01-14   \n",
       "5            8      Frank        R.  2018-01-29        2018-03-12   \n",
       "6            9   Jennifer        F.  2018-03-17        2018-03-17   \n",
       "7           11       Fred        S.  2018-03-23        2018-03-23   \n",
       "8           12        Amy        D.  2018-03-03        2018-03-03   \n",
       "9           13   Kathleen        M.  2018-03-07        2018-03-07   \n",
       "\n",
       "   number_of_orders customer_lifetime_value  \n",
       "0                 2                    33.0  \n",
       "1                 1                    23.0  \n",
       "2                 3                    65.0  \n",
       "3                 1                     8.0  \n",
       "4                 1                    26.0  \n",
       "5                 2                    45.0  \n",
       "6                 1                    30.0  \n",
       "7                 1                     3.0  \n",
       "8                 1                     4.0  \n",
       "9                 1                    26.0  "
      ]
     },
     "metadata": {},
     "output_type": "display_data"
    },
    {
     "data": {
      "text/plain": [
       "'Rows: 10, Columns: 7'"
      ]
     },
     "metadata": {},
     "output_type": "display_data"
    }
   ],
   "source": [
    "%%dbt_show\n",
    "select *\n",
    "from {{ ref('customers') }}"
   ]
  },
  {
   "cell_type": "code",
   "execution_count": 13,
   "metadata": {
    "vscode": {
     "languageId": "sql"
    }
   },
   "outputs": [
    {
     "data": {
      "application/javascript": "\n        function copyToClipboard(text) {\n            if ( window.clipboardData && window.clipboardData.setData ) { return clipboardData.setData( \"Text\", text ); }\n            else if ( document.queryCommandSupported && document.queryCommandSupported( \"copy\" ) ) {\n                var textarea = document.createElement( \"textarea\" );\n                textarea.textContent = text;\n                textarea.style.position = \"fixed\";  // Prevent scrolling to bottom of page in Microsoft Edge.\n                document.body.appendChild( textarea );\n                textarea.select();\n                try { return document.execCommand( \"copy\" ); }\n                catch ( ex ) {\n                    console.warn( \"Copy to clipboard failed.\", ex );\n                    return false;\n                }\n                finally { document.body.removeChild( textarea ); }\n            }\n        };\n        copyToClipboard( \"\tcustomer_id\tfirst_name\tlast_name\tfirst_order\tmost_recent_order\tnumber_of_orders\tcustomer_lifetime_value\\n0\t1\tMichael\tP.\t2018-01-01\t2018-02-10\t2\t33.0\\n1\t2\tShawn\tM.\t2018-01-11\t2018-01-11\t1\t23.0\\n2\t3\tKathleen\tP.\t2018-01-02\t2018-03-11\t3\t65.0\\n3\t6\tSarah\tR.\t2018-02-19\t2018-02-19\t1\t8.0\\n4\t7\tMartin\tM.\t2018-01-14\t2018-01-14\t1\t26.0\\n5\t8\tFrank\tR.\t2018-01-29\t2018-03-12\t2\t45.0\\n6\t9\tJennifer\tF.\t2018-03-17\t2018-03-17\t1\t30.0\\n7\t11\tFred\tS.\t2018-03-23\t2018-03-23\t1\t3.0\\n8\t12\tAmy\tD.\t2018-03-03\t2018-03-03\t1\t4.0\\n9\t13\tKathleen\tM.\t2018-03-07\t2018-03-07\t1\t26.0\" );\n        ",
      "text/plain": [
       "<IPython.core.display.Javascript object>"
      ]
     },
     "metadata": {},
     "output_type": "display_data"
    },
    {
     "data": {
      "text/plain": [
       "'DataFrame copied to clipboard.'"
      ]
     },
     "metadata": {},
     "output_type": "display_data"
    },
    {
     "data": {
      "text/html": [
       "<div>\n",
       "<style scoped>\n",
       "    .dataframe tbody tr th:only-of-type {\n",
       "        vertical-align: middle;\n",
       "    }\n",
       "\n",
       "    .dataframe tbody tr th {\n",
       "        vertical-align: top;\n",
       "    }\n",
       "\n",
       "    .dataframe thead th {\n",
       "        text-align: right;\n",
       "    }\n",
       "</style>\n",
       "<table border=\"1\" class=\"dataframe\">\n",
       "  <thead>\n",
       "    <tr style=\"text-align: right;\">\n",
       "      <th></th>\n",
       "      <th>customer_id</th>\n",
       "      <th>first_name</th>\n",
       "      <th>last_name</th>\n",
       "      <th>first_order</th>\n",
       "      <th>most_recent_order</th>\n",
       "      <th>number_of_orders</th>\n",
       "      <th>customer_lifetime_value</th>\n",
       "    </tr>\n",
       "  </thead>\n",
       "  <tbody>\n",
       "    <tr>\n",
       "      <th>0</th>\n",
       "      <td>1</td>\n",
       "      <td>Michael</td>\n",
       "      <td>P.</td>\n",
       "      <td>2018-01-01</td>\n",
       "      <td>2018-02-10</td>\n",
       "      <td>2</td>\n",
       "      <td>33.0</td>\n",
       "    </tr>\n",
       "    <tr>\n",
       "      <th>1</th>\n",
       "      <td>2</td>\n",
       "      <td>Shawn</td>\n",
       "      <td>M.</td>\n",
       "      <td>2018-01-11</td>\n",
       "      <td>2018-01-11</td>\n",
       "      <td>1</td>\n",
       "      <td>23.0</td>\n",
       "    </tr>\n",
       "    <tr>\n",
       "      <th>2</th>\n",
       "      <td>3</td>\n",
       "      <td>Kathleen</td>\n",
       "      <td>P.</td>\n",
       "      <td>2018-01-02</td>\n",
       "      <td>2018-03-11</td>\n",
       "      <td>3</td>\n",
       "      <td>65.0</td>\n",
       "    </tr>\n",
       "    <tr>\n",
       "      <th>3</th>\n",
       "      <td>6</td>\n",
       "      <td>Sarah</td>\n",
       "      <td>R.</td>\n",
       "      <td>2018-02-19</td>\n",
       "      <td>2018-02-19</td>\n",
       "      <td>1</td>\n",
       "      <td>8.0</td>\n",
       "    </tr>\n",
       "    <tr>\n",
       "      <th>4</th>\n",
       "      <td>7</td>\n",
       "      <td>Martin</td>\n",
       "      <td>M.</td>\n",
       "      <td>2018-01-14</td>\n",
       "      <td>2018-01-14</td>\n",
       "      <td>1</td>\n",
       "      <td>26.0</td>\n",
       "    </tr>\n",
       "    <tr>\n",
       "      <th>5</th>\n",
       "      <td>8</td>\n",
       "      <td>Frank</td>\n",
       "      <td>R.</td>\n",
       "      <td>2018-01-29</td>\n",
       "      <td>2018-03-12</td>\n",
       "      <td>2</td>\n",
       "      <td>45.0</td>\n",
       "    </tr>\n",
       "    <tr>\n",
       "      <th>6</th>\n",
       "      <td>9</td>\n",
       "      <td>Jennifer</td>\n",
       "      <td>F.</td>\n",
       "      <td>2018-03-17</td>\n",
       "      <td>2018-03-17</td>\n",
       "      <td>1</td>\n",
       "      <td>30.0</td>\n",
       "    </tr>\n",
       "    <tr>\n",
       "      <th>7</th>\n",
       "      <td>11</td>\n",
       "      <td>Fred</td>\n",
       "      <td>S.</td>\n",
       "      <td>2018-03-23</td>\n",
       "      <td>2018-03-23</td>\n",
       "      <td>1</td>\n",
       "      <td>3.0</td>\n",
       "    </tr>\n",
       "    <tr>\n",
       "      <th>8</th>\n",
       "      <td>12</td>\n",
       "      <td>Amy</td>\n",
       "      <td>D.</td>\n",
       "      <td>2018-03-03</td>\n",
       "      <td>2018-03-03</td>\n",
       "      <td>1</td>\n",
       "      <td>4.0</td>\n",
       "    </tr>\n",
       "    <tr>\n",
       "      <th>9</th>\n",
       "      <td>13</td>\n",
       "      <td>Kathleen</td>\n",
       "      <td>M.</td>\n",
       "      <td>2018-03-07</td>\n",
       "      <td>2018-03-07</td>\n",
       "      <td>1</td>\n",
       "      <td>26.0</td>\n",
       "    </tr>\n",
       "  </tbody>\n",
       "</table>\n",
       "</div>"
      ],
      "text/plain": [
       "   customer_id first_name last_name first_order most_recent_order  \\\n",
       "0            1    Michael        P.  2018-01-01        2018-02-10   \n",
       "1            2      Shawn        M.  2018-01-11        2018-01-11   \n",
       "2            3   Kathleen        P.  2018-01-02        2018-03-11   \n",
       "3            6      Sarah        R.  2018-02-19        2018-02-19   \n",
       "4            7     Martin        M.  2018-01-14        2018-01-14   \n",
       "5            8      Frank        R.  2018-01-29        2018-03-12   \n",
       "6            9   Jennifer        F.  2018-03-17        2018-03-17   \n",
       "7           11       Fred        S.  2018-03-23        2018-03-23   \n",
       "8           12        Amy        D.  2018-03-03        2018-03-03   \n",
       "9           13   Kathleen        M.  2018-03-07        2018-03-07   \n",
       "\n",
       "   number_of_orders customer_lifetime_value  \n",
       "0                 2                    33.0  \n",
       "1                 1                    23.0  \n",
       "2                 3                    65.0  \n",
       "3                 1                     8.0  \n",
       "4                 1                    26.0  \n",
       "5                 2                    45.0  \n",
       "6                 1                    30.0  \n",
       "7                 1                     3.0  \n",
       "8                 1                     4.0  \n",
       "9                 1                    26.0  "
      ]
     },
     "metadata": {},
     "output_type": "display_data"
    },
    {
     "data": {
      "text/plain": [
       "'Rows: 10, Columns: 7'"
      ]
     },
     "metadata": {},
     "output_type": "display_data"
    }
   ],
   "source": [
    "%%dbt_show copydf\n",
    "select *\n",
    "from {{ ref('customers') }}"
   ]
  },
  {
   "cell_type": "code",
   "execution_count": 14,
   "metadata": {
    "vscode": {
     "languageId": "sql"
    }
   },
   "outputs": [
    {
     "data": {
      "text/plain": [
       "\"Results stored in variable 'df'.\""
      ]
     },
     "metadata": {},
     "output_type": "display_data"
    }
   ],
   "source": [
    "%%dbt_show df\n",
    "select *\n",
    "from {{ ref('customers') }}"
   ]
  },
  {
   "cell_type": "code",
   "execution_count": 15,
   "metadata": {},
   "outputs": [
    {
     "data": {
      "text/html": [
       "<div>\n",
       "<style scoped>\n",
       "    .dataframe tbody tr th:only-of-type {\n",
       "        vertical-align: middle;\n",
       "    }\n",
       "\n",
       "    .dataframe tbody tr th {\n",
       "        vertical-align: top;\n",
       "    }\n",
       "\n",
       "    .dataframe thead th {\n",
       "        text-align: right;\n",
       "    }\n",
       "</style>\n",
       "<table border=\"1\" class=\"dataframe\">\n",
       "  <thead>\n",
       "    <tr style=\"text-align: right;\">\n",
       "      <th></th>\n",
       "      <th>customer_id</th>\n",
       "      <th>number_of_orders</th>\n",
       "    </tr>\n",
       "  </thead>\n",
       "  <tbody>\n",
       "    <tr>\n",
       "      <th>count</th>\n",
       "      <td>10.000000</td>\n",
       "      <td>10.000000</td>\n",
       "    </tr>\n",
       "    <tr>\n",
       "      <th>mean</th>\n",
       "      <td>7.200000</td>\n",
       "      <td>1.400000</td>\n",
       "    </tr>\n",
       "    <tr>\n",
       "      <th>std</th>\n",
       "      <td>4.211096</td>\n",
       "      <td>0.699206</td>\n",
       "    </tr>\n",
       "    <tr>\n",
       "      <th>min</th>\n",
       "      <td>1.000000</td>\n",
       "      <td>1.000000</td>\n",
       "    </tr>\n",
       "    <tr>\n",
       "      <th>25%</th>\n",
       "      <td>3.750000</td>\n",
       "      <td>1.000000</td>\n",
       "    </tr>\n",
       "    <tr>\n",
       "      <th>50%</th>\n",
       "      <td>7.500000</td>\n",
       "      <td>1.000000</td>\n",
       "    </tr>\n",
       "    <tr>\n",
       "      <th>75%</th>\n",
       "      <td>10.500000</td>\n",
       "      <td>1.750000</td>\n",
       "    </tr>\n",
       "    <tr>\n",
       "      <th>max</th>\n",
       "      <td>13.000000</td>\n",
       "      <td>3.000000</td>\n",
       "    </tr>\n",
       "  </tbody>\n",
       "</table>\n",
       "</div>"
      ],
      "text/plain": [
       "       customer_id  number_of_orders\n",
       "count    10.000000         10.000000\n",
       "mean      7.200000          1.400000\n",
       "std       4.211096          0.699206\n",
       "min       1.000000          1.000000\n",
       "25%       3.750000          1.000000\n",
       "50%       7.500000          1.000000\n",
       "75%      10.500000          1.750000\n",
       "max      13.000000          3.000000"
      ]
     },
     "execution_count": 15,
     "metadata": {},
     "output_type": "execute_result"
    }
   ],
   "source": [
    "df.describe()"
   ]
  },
  {
   "cell_type": "code",
   "execution_count": 16,
   "metadata": {
    "vscode": {
     "languageId": "sql"
    }
   },
   "outputs": [
    {
     "data": {
      "text/html": [
       "\n",
       "        <details>\n",
       "            <summary>Converted SQL (Click to expand)</summary>\n",
       "            <pre>select *\n",
       "from \"jaffle_shop\".\"main\".\"orders\"</pre>\n",
       "        </details>\n",
       "        "
      ],
      "text/plain": [
       "<IPython.core.display.HTML object>"
      ]
     },
     "metadata": {},
     "output_type": "display_data"
    }
   ],
   "source": [
    "%%dbt_compile\n",
    "select *\n",
    "from {{ ref('orders') }}"
   ]
  }
 ],
 "metadata": {
  "kernelspec": {
   "display_name": ".venv",
   "language": "python",
   "name": "python3"
  },
  "language_info": {
   "codemirror_mode": {
    "name": "ipython",
    "version": 3
   },
   "file_extension": ".py",
   "mimetype": "text/x-python",
   "name": "python",
   "nbconvert_exporter": "python",
   "pygments_lexer": "ipython3",
   "version": "3.10.13"
  }
 },
 "nbformat": 4,
 "nbformat_minor": 2
}
